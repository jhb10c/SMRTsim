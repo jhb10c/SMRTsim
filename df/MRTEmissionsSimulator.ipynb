{
 "cells": [
  {
   "cell_type": "code",
   "execution_count": 80,
   "metadata": {},
   "outputs": [
    {
     "data": {
      "text/plain": [
       "2000.0"
      ]
     },
     "execution_count": 80,
     "metadata": {},
     "output_type": "execute_result"
    }
   ],
   "source": [
    "secs_per_year = 31536000\n",
    "\n",
    "def emissions(intial_supply,rate,time):\n",
    "    emitted=intial_supply*(rate/secs_per_year)*time\n",
    "    return emitted + intial_supply\n",
    "\n",
    "def cost(supply,mc):\n",
    "    return supply/mc\n",
    "\n",
    "emissions(1000,100/100,secs_per_year)\n"
   ]
  },
  {
   "cell_type": "code",
   "execution_count": 87,
   "metadata": {},
   "outputs": [
    {
     "data": {
      "text/plain": [
       "1016444384288212.5"
      ]
     },
     "execution_count": 87,
     "metadata": {},
     "output_type": "execute_result"
    }
   ],
   "source": [
    "start = 10**12\n",
    "emi = 10**12 \n",
    "\n",
    "def simulate_days(start,day,rate):\n",
    "    for i in range(0,day):\n",
    "        emi = emissions(start,rate,8640)\n",
    "        start = emi\n",
    "        if start > 10**15:\n",
    "            return start\n",
    "    return start\n",
    "            \n",
    "simulate_days(start,30,1024)\n"
   ]
  },
  {
   "cell_type": "code",
   "execution_count": 115,
   "metadata": {},
   "outputs": [],
   "source": [
    "def check_supply(current_supply,days):\n",
    "    if current_supply >= 10**15:\n",
    "            print('supply reached')\n",
    "            return [current_supply,days]\n",
    "\n",
    "def emission_schedule(intial,b1,b2,b3,b4,b5,b6,b7,b8,b9,b10,b11):\n",
    "    \"\"\"Rough simulation of days until supply cap is reached\n",
    "    program stops on the first day circulating supply is reached.\n",
    "    If the circulating supply is nott reached returns the current supply\n",
    "    and days it took to reach the supply\n",
    "   \n",
    "   \n",
    "    Arguments: intial - intial circulating supply\n",
    "               b1 - number of days in 100% rewards\n",
    "               b2 - number of days in 200% rewards\n",
    "               ...\n",
    "               b11 - number of days in 102400% rewards\n",
    "               \n",
    "    Returns: [number of ciculating supply, number of days to reach supply]\n",
    "    \n",
    "    \n",
    "    \n",
    "    \"\"\"\n",
    "    \n",
    "    suma = b1\n",
    "    \n",
    "    if b1 >0:\n",
    "        intial=simulate_days(intial,b1,1)\n",
    "        ok=check_supply(intial,suma)\n",
    "        if type(ok) == list:\n",
    "            return ok \n",
    "        \n",
    "    if b2>0:\n",
    "        intial=simulate_days(intial,b2,2)\n",
    "        suma = suma + b2\n",
    "        ok=check_supply(intial,suma)\n",
    "        if type(ok) == list:\n",
    "            return ok \n",
    "    if b3>0:\n",
    "        intial=simulate_days(intial,b3,4)\n",
    "        suma = suma + b3\n",
    "        ok=check_supply(intial,suma)\n",
    "        if type(ok) == list:\n",
    "            return ok \n",
    "    if b4>0:\n",
    "        intial=simulate_days(intial,b4,8)\n",
    "        suma = suma + b4\n",
    "        ok=check_supply(intial,suma)\n",
    "        if type(ok) == list:\n",
    "            return ok \n",
    "    if b5>0:\n",
    "        intial=simulate_days(intial,b5,16)\n",
    "        suma = suma + b5\n",
    "        ok=check_supply(intial,suma)\n",
    "        if type(ok) == list:\n",
    "            return ok \n",
    "    if b6>0:\n",
    "        intial=simulate_days(intial,b6,32)\n",
    "        suma = suma + b6\n",
    "        ok=check_supply(intial,suma)\n",
    "        if type(ok) == list:\n",
    "            return ok  \n",
    "    if b7>0:\n",
    "        intial=simulate_days(intial,b7,64)\n",
    "        suma = suma + b7\n",
    "        ok=check_supply(intial,suma)\n",
    "        if type(ok) == list:\n",
    "            return ok  \n",
    "    if b8>0:\n",
    "        intial=simulate_days(intial,b8,128)\n",
    "        suma = suma + b8\n",
    "        ok=check_supply(intial,suma)\n",
    "        if type(ok) == list:\n",
    "            return ok \n",
    "    if b9>0:\n",
    "        intial=simulate_days(intial,b9,256)\n",
    "        suma = suma + b9\n",
    "        ok=check_supply(intial,suma)\n",
    "        if type(ok) == list:\n",
    "            return ok \n",
    "    if b10>0:\n",
    "        intial=simulate_days(intial,b10,512)\n",
    "        suma = suma + b10\n",
    "        ok=check_supply(intial,suma)\n",
    "        if type(ok) == list:\n",
    "            return ok \n",
    "    if b11>0:\n",
    "        intial=simulate_days(intial,b10,1024)\n",
    "        suma = suma + b11\n",
    "        ok=check_supply(intial,suma)\n",
    "        if type(ok) == list:\n",
    "            return ok \n",
    "    return [intial,suma]"
   ]
  },
  {
   "cell_type": "code",
   "execution_count": 116,
   "metadata": {},
   "outputs": [
    {
     "name": "stdout",
     "output_type": "stream",
     "text": [
      "supply reached\n"
     ]
    },
    {
     "data": {
      "text/plain": [
       "[1028664360948258.9, 66]"
      ]
     },
     "execution_count": 116,
     "metadata": {},
     "output_type": "execute_result"
    }
   ],
   "source": [
    "emission_schedule(10**13,1,2,3,4,5,6,7,8,9,10,11)"
   ]
  },
  {
   "cell_type": "code",
   "execution_count": null,
   "metadata": {},
   "outputs": [],
   "source": []
  }
 ],
 "metadata": {
  "kernelspec": {
   "display_name": "Python 3",
   "language": "python",
   "name": "python3"
  },
  "language_info": {
   "codemirror_mode": {
    "name": "ipython",
    "version": 3
   },
   "file_extension": ".py",
   "mimetype": "text/x-python",
   "name": "python",
   "nbconvert_exporter": "python",
   "pygments_lexer": "ipython3",
   "version": "3.8.5"
  }
 },
 "nbformat": 4,
 "nbformat_minor": 4
}
